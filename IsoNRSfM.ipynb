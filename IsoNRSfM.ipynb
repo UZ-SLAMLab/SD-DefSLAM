{
 "cells": [
  {
   "cell_type": "markdown",
   "metadata": {},
   "source": [
    "# Isometric Non-Rigid Structure-from-Motion"
   ]
  },
  {
   "cell_type": "markdown",
   "metadata": {},
   "source": [
    "Non Rigid Structure from Motion problem deals with recovering the shape of an object from several monocular images is one of the hardest problems in computer vision. In this notebook, we are going to explore the work Isometric Non-Rigid Shape-from-Motion with Riemannian Geometry Solved in Linear Time from Shaifali Parashar, Daniel Pizarro and Adrien Bartoli. The method is able to recover the normals of the object and the relative depth through isometry working with perpective camera model. \n",
    "\n",
    "Isometry is the assumption of invariance in the geodesic distance of a surface. If we want to meassure the distance between two points in a surface, we will use the concept of Riemannian manifold. A manifold is a topological space that locally resembles Euclidean space near each point... in a word, a surface embedded in 3D. \n",
    "\n",
    "The surface is parametrized in the image observing it. The depth of a pixel is defined as:\n",
    "\n",
    "\\begin{equation*}\n",
    "\\phi_k\\left(\\hat{x},\\hat{y}\\right) = \\begin{bmatrix}\\frac{\\hat{x}}{\\beta(\\hat{x},\\hat{y})} & \\frac{\\hat{y}}{\\beta(\\hat{x},\\hat{y})} & \\frac{1}{\\beta(\\hat{x},\\hat{y})}\n",
    "\\end{bmatrix}^\\top,\n",
    "\\end{equation*} where $\\beta_k(\\hat{x},\\hat{y})$ is the inverse depth of each point."
   ]
  },
  {
   "cell_type": "code",
   "execution_count": 2,
   "metadata": {},
   "outputs": [
    {
     "ename": "NameError",
     "evalue": "name 'f' is not defined",
     "output_type": "error",
     "traceback": [
      "\u001b[0;31m---------------------------------------------------------------------------\u001b[0m",
      "\u001b[0;31mNameError\u001b[0m                                 Traceback (most recent call last)",
      "\u001b[0;32m<ipython-input-2-dbe706344b59>\u001b[0m in \u001b[0;36m<module>\u001b[0;34m\u001b[0m\n\u001b[1;32m      7\u001b[0m \u001b[0mphi\u001b[0m \u001b[0;34m=\u001b[0m \u001b[0;36m1\u001b[0m\u001b[0;34m/\u001b[0m\u001b[0mb\u001b[0m\u001b[0;34m*\u001b[0m\u001b[0mMatrix\u001b[0m\u001b[0;34m(\u001b[0m\u001b[0;34m[\u001b[0m\u001b[0;34m[\u001b[0m\u001b[0mx\u001b[0m\u001b[0;34m]\u001b[0m\u001b[0;34m,\u001b[0m\u001b[0;34m[\u001b[0m\u001b[0my\u001b[0m\u001b[0;34m]\u001b[0m\u001b[0;34m,\u001b[0m\u001b[0;34m[\u001b[0m\u001b[0;36m1\u001b[0m\u001b[0;34m]\u001b[0m\u001b[0;34m]\u001b[0m\u001b[0;34m)\u001b[0m\u001b[0;34m\u001b[0m\u001b[0m\n\u001b[1;32m      8\u001b[0m \u001b[0;34m\u001b[0m\u001b[0m\n\u001b[0;32m----> 9\u001b[0;31m \u001b[0mbx\u001b[0m \u001b[0;34m=\u001b[0m \u001b[0mdiff\u001b[0m\u001b[0;34m(\u001b[0m\u001b[0mf\u001b[0m\u001b[0;34m,\u001b[0m\u001b[0mx\u001b[0m\u001b[0;34m)\u001b[0m\u001b[0;34m.\u001b[0m\u001b[0mT\u001b[0m\u001b[0;34m\u001b[0m\u001b[0m\n\u001b[0m\u001b[1;32m     10\u001b[0m \u001b[0mby\u001b[0m \u001b[0;34m=\u001b[0m \u001b[0mdiff\u001b[0m\u001b[0;34m(\u001b[0m\u001b[0mf\u001b[0m\u001b[0;34m,\u001b[0m\u001b[0my\u001b[0m\u001b[0;34m)\u001b[0m\u001b[0;34m.\u001b[0m\u001b[0mT\u001b[0m\u001b[0;34m\u001b[0m\u001b[0m\n\u001b[1;32m     11\u001b[0m \u001b[0;34m\u001b[0m\u001b[0m\n",
      "\u001b[0;31mNameError\u001b[0m: name 'f' is not defined"
     ]
    }
   ],
   "source": [
    "from sympy import *\n",
    "init_printing(use_unicode=True)\n",
    "\n",
    "x,y = symbols('\\hat{x} \\hat{y}')\n",
    "b = Function('beta')(x,y)\n",
    "\n",
    "phi = 1/b*Matrix([[x],[y],[1]])\n",
    "\n",
    "bx = diff(f,x).T\n",
    "by = diff(f,y).T\n",
    "\n",
    "J = Matrix([bx,by]).T\n",
    "\n",
    "J"
   ]
  },
  {
   "cell_type": "markdown",
   "metadata": {},
   "source": [
    "We can now recover the tangent space of this parametrization through the jacobian.\n",
    "\n",
    "\\begin{equation*}\n",
    "J = \\frac{1}{\\beta}\\begin{bmatrix}\n",
    "k_{\\hat{x}}\\hat{x}-1 & k_{\\hat{y}}\\hat{x}\\\\ \n",
    "k_{\\hat{x}}\\hat{y} & k_{\\hat{y}}\\hat{y}-1\\\\ \n",
    "k_{\\hat{x}} & k_{\\hat{y}}\n",
    "\\end{bmatrix}\n",
    "\\end{equation*}, being $k_{\\hat{x}}=\\frac{1}{\\beta}\\frac{\\partial \\beta}{\\partial\\hat{x}}$ and $k_{\\hat{y}}=\\frac{1}{\\beta}\\frac{\\partial \\beta}{\\partial\\hat{y}}$"
   ]
  },
  {
   "cell_type": "code",
   "execution_count": 3,
   "metadata": {},
   "outputs": [
    {
     "data": {
      "image/png": "[encoded data removed]",
      "text/latex": [
       "$\\displaystyle \\left[\\begin{matrix}\\frac{\\hat{x} k_{\\hat{x}} - 1}{\\beta{\\left(\\hat{x},\\hat{y} \\right)}} & \\frac{\\hat{x} k_{\\hat{y}}}{\\beta{\\left(\\hat{x},\\hat{y} \\right)}}\\\\\\frac{\\hat{y} k_{\\hat{x}}}{\\beta{\\left(\\hat{x},\\hat{y} \\right)}} & \\frac{\\hat{y} k_{\\hat{y}} - 1}{\\beta{\\left(\\hat{x},\\hat{y} \\right)}}\\\\\\frac{k_{\\hat{x}}}{\\beta{\\left(\\hat{x},\\hat{y} \\right)}} & \\frac{k_{\\hat{y}}}{\\beta{\\left(\\hat{x},\\hat{y} \\right)}}\\end{matrix}\\right]$"
      ],
      "text/plain": [
       "⎡\\hat{x}⋅k_{\\hat{x}} - 1    \\hat{x}⋅k_{\\hat{y}}  ⎤\n",
       "⎢───────────────────────    ───────────────────  ⎥\n",
       "⎢  β(\\hat{x}, \\hat{y})      β(\\hat{x}, \\hat{y})  ⎥\n",
       "⎢                                                ⎥\n",
       "⎢  \\hat{y}⋅k_{\\hat{x}}    \\hat{y}⋅k_{\\hat{y}} - 1⎥\n",
       "⎢  ───────────────────    ───────────────────────⎥\n",
       "⎢  β(\\hat{x}, \\hat{y})      β(\\hat{x}, \\hat{y})  ⎥\n",
       "⎢                                                ⎥\n",
       "⎢      k_{\\hat{x}}              k_{\\hat{y}}      ⎥\n",
       "⎢  ───────────────────      ───────────────────  ⎥\n",
       "⎣  β(\\hat{x}, \\hat{y})      β(\\hat{x}, \\hat{y})  ⎦"
      ]
     },
     "execution_count": 3,
     "metadata": {},
     "output_type": "execute_result"
    }
   ],
   "source": [
    "#For original image\n",
    "kx, ky = symbols('k_{\\hat{x}} k_{\\hat{y}}',real=True)\n",
    "\n",
    "Jk =  1/b *Matrix([[kx*x-1,ky*x],[kx*y,ky*y-1],[kx,ky]]) \n",
    "\n",
    "factor(Jk)"
   ]
  },
  {
   "cell_type": "markdown",
   "metadata": {},
   "source": [
    "What should we conserve during the different images: Isometry. That means that the distances between points going through the surface should be preserve. We express this matematically through the differential distance $$ds^2 = g_{11}d_u^2+2g_{12}d_ud_v+g_{22}d_v^2$$\n",
    "\n",
    "This can be express through the first fundamental form, the metric tensor $G$, as:\n",
    "\n",
    "$$ds^2 = \\begin{bmatrix}\n",
    "du & dv \n",
    "\\end{bmatrix} G \\begin{bmatrix}\n",
    "du \\\\ dv \n",
    "\\end{bmatrix}$$\n",
    "\n",
    "This metric tensor is estimated as $ G = J^\\top J$"
   ]
  },
  {
   "cell_type": "code",
   "execution_count": 7,
   "metadata": {},
   "outputs": [
    {
     "data": {
      "image/png": "[encoded data removed]",
      "text/latex": [
       "$\\displaystyle \\left[\\begin{matrix}\\frac{\\hat{y}^{2} k_{\\hat{x}}^{2} + k_{\\hat{x}}^{2} + \\left(\\hat{x} k_{\\hat{x}} - 1\\right)^{2}}{\\beta^{2}{\\left(\\hat{x},\\hat{y} \\right)}} & \\frac{\\hat{x} k_{\\hat{y}} \\left(\\hat{x} k_{\\hat{x}} - 1\\right) + \\hat{y} k_{\\hat{x}} \\left(\\hat{y} k_{\\hat{y}} - 1\\right) + k_{\\hat{x}} k_{\\hat{y}}}{\\beta^{2}{\\left(\\hat{x},\\hat{y} \\right)}}\\\\\\frac{\\hat{x} k_{\\hat{y}} \\left(\\hat{x} k_{\\hat{x}} - 1\\right) + \\hat{y} k_{\\hat{x}} \\left(\\hat{y} k_{\\hat{y}} - 1\\right) + k_{\\hat{x}} k_{\\hat{y}}}{\\beta^{2}{\\left(\\hat{x},\\hat{y} \\right)}} & \\frac{\\hat{x}^{2} k_{\\hat{y}}^{2} + k_{\\hat{y}}^{2} + \\left(\\hat{y} k_{\\hat{y}} - 1\\right)^{2}}{\\beta^{2}{\\left(\\hat{x},\\hat{y} \\right)}}\\end{matrix}\\right]$"
      ],
      "text/plain": [
       "⎡                                  2            2              2              \n",
       "⎢                           \\hat{y} ⋅k_{\\hat{x}}  + k_{\\hat{x}}  + (\\hat{x}⋅k_\n",
       "⎢                           ──────────────────────────────────────────────────\n",
       "⎢                                                   2                         \n",
       "⎢                                                  β (\\hat{x}, \\hat{y})       \n",
       "⎢                                                                             \n",
       "⎢                                                                             \n",
       "⎢\\hat{x}⋅k_{\\hat{y}}⋅(\\hat{x}⋅k_{\\hat{x}} - 1) + \\hat{y}⋅k_{\\hat{x}}⋅(\\hat{y}⋅\n",
       "⎢─────────────────────────────────────────────────────────────────────────────\n",
       "⎢                                                   2                         \n",
       "⎣                                                  β (\\hat{x}, \\hat{y})       \n",
       "\n",
       "              2                                                               \n",
       "{\\hat{x}} - 1)                              \\hat{x}⋅k_{\\hat{y}}⋅(\\hat{x}⋅k_{\\h\n",
       "───────────────                             ──────────────────────────────────\n",
       "                                                                              \n",
       "                                                                              \n",
       "                                                                              \n",
       "                                                                              \n",
       "k_{\\hat{y}} - 1) + k_{\\hat{x}}⋅k_{\\hat{y}}                             \\hat{x}\n",
       "──────────────────────────────────────────                             ───────\n",
       "                                                                              \n",
       "                                                                              \n",
       "\n",
       "                                                                              \n",
       "at{x}} - 1) + \\hat{y}⋅k_{\\hat{x}}⋅(\\hat{y}⋅k_{\\hat{y}} - 1) + k_{\\hat{x}}⋅k_{\\\n",
       "──────────────────────────────────────────────────────────────────────────────\n",
       "                 2                                                            \n",
       "                β (\\hat{x}, \\hat{y})                                          \n",
       "                                                                              \n",
       "2            2              2                            2                    \n",
       " ⋅k_{\\hat{y}}  + k_{\\hat{y}}  + (\\hat{y}⋅k_{\\hat{y}} - 1)                     \n",
       "──────────────────────────────────────────────────────────                    \n",
       "                 2                                                            \n",
       "                β (\\hat{x}, \\hat{y})                                          \n",
       "\n",
       "       ⎤\n",
       "hat{y}}⎥\n",
       "───────⎥\n",
       "       ⎥\n",
       "       ⎥\n",
       "       ⎥\n",
       "       ⎥\n",
       "       ⎥\n",
       "       ⎥\n",
       "       ⎥\n",
       "       ⎦"
      ]
     },
     "execution_count": 7,
     "metadata": {},
     "output_type": "execute_result"
    }
   ],
   "source": [
    "G = Jk.T*Jk\n",
    "simplify(G)\n"
   ]
  },
  {
   "cell_type": "code",
   "execution_count": 73,
   "metadata": {},
   "outputs": [],
   "source": [
    "#For original image\n",
    "m1, n1, km1, kn1, b1 = symbols('m1 n1 km1 kn1 beta_1',real=True)\n",
    "#For second image\n",
    "m2, n2, km2, kn2, b2 = symbols('m2 n2 km2 kn2 beta_2',real=True)\n",
    "\n",
    "# Metric tensor estimation without depth\n",
    "def metric_tensor_symbolic(m,n,km,kn):\n",
    "    \"\"\"Metric tensor estimation without depth\"\"\"\n",
    "    g11 = (km*m-1)**2+(km*n)**2+km**2 # Abreviated as E\n",
    "    g12 = km*kn*(m**2+n**2+1)-kn*m-km*n # Abreviated as F\n",
    "    g22 = (kn*m)**2+(kn*n-1)**2+kn**2 # Abreviated as G\n",
    "    Ges =  Matrix([[g11,g12],[g12,g22]])\n",
    "    return g11,g12,g22,Ges"
   ]
  },
  {
   "cell_type": "code",
   "execution_count": 71,
   "metadata": {},
   "outputs": [],
   "source": [
    "g111,g121,g221,G1 = metric_tensor_symbolic(m1,n1,km1,kn1)\n",
    "g112,g122,g222,G2 = metric_tensor_symbolic(m2,n2,km2,kn2)"
   ]
  },
  {
   "cell_type": "markdown",
   "metadata": {},
   "source": [
    "Under isometric variations in the surface the metric tensor remains the same. We can relate what we have observed in the image original $k$ image with the rest of images $k^*$ though a warp $\\eta$. This warp is a bijective transformation that explain how the image have changed. \n",
    "\n",
    "So relating the surface parametrized in the original image with the new image thorugh a warp $\\eta_{12}$  \n",
    "\n",
    "$$g_{k}(\\hat{x},\\hat{y}) = J_{\\eta_{k k^*}}^\\top g_{k^*}(\\hat{x}^*,\\hat{y}^*) J_{\\eta_{k k^*}} $$"
   ]
  },
  {
   "cell_type": "code",
   "execution_count": 96,
   "metadata": {},
   "outputs": [
    {
     "data": {
      "image/png": "[encoded data removed]",
      "text/latex": [
       "$\\displaystyle \\frac{J_{11}^{2} km_{2}^{2} m_{2}^{2} + J_{11}^{2} km_{2}^{2} n_{2}^{2} + J_{11}^{2} km_{2}^{2} - 2 J_{11}^{2} km_{2} m_{2} + J_{11}^{2} + 2 J_{11} J_{12} km_{2} kn_{2} m_{2}^{2} + 2 J_{11} J_{12} km_{2} kn_{2} n_{2}^{2} + 2 J_{11} J_{12} km_{2} kn_{2} - 2 J_{11} J_{12} km_{2} n_{2} - 2 J_{11} J_{12} kn_{2} m_{2} + J_{12}^{2} kn_{2}^{2} m_{2}^{2} + J_{12}^{2} kn_{2}^{2} n_{2}^{2} + J_{12}^{2} kn_{2}^{2} - 2 J_{12}^{2} kn_{2} n_{2} + J_{12}^{2}}{\\beta_{2}^{2}} = \\frac{km_{1}^{2} n_{1}^{2} + km_{1}^{2} + \\left(km_{1} m_{1} - 1\\right)^{2}}{\\beta_{1}^{2}}$"
      ],
      "text/plain": [
       "   2    2   2      2    2   2      2    2        2             2              \n",
       "J₁₁ ⋅km₂ ⋅m₂  + J₁₁ ⋅km₂ ⋅n₂  + J₁₁ ⋅km₂  - 2⋅J₁₁ ⋅km₂⋅m₂ + J₁₁  + 2⋅J₁₁⋅J₁₂⋅k\n",
       "──────────────────────────────────────────────────────────────────────────────\n",
       "                                                                              \n",
       "                                                                              \n",
       "\n",
       "         2                       2                                            \n",
       "m₂⋅kn₂⋅m₂  + 2⋅J₁₁⋅J₁₂⋅km₂⋅kn₂⋅n₂  + 2⋅J₁₁⋅J₁₂⋅km₂⋅kn₂ - 2⋅J₁₁⋅J₁₂⋅km₂⋅n₂ - 2⋅\n",
       "──────────────────────────────────────────────────────────────────────────────\n",
       "                                         2                                    \n",
       "                                       β₂                                     \n",
       "\n",
       "                    2    2   2      2    2   2      2    2        2           \n",
       "J₁₁⋅J₁₂⋅kn₂⋅m₂ + J₁₂ ⋅kn₂ ⋅m₂  + J₁₂ ⋅kn₂ ⋅n₂  + J₁₂ ⋅kn₂  - 2⋅J₁₂ ⋅kn₂⋅n₂ + J\n",
       "──────────────────────────────────────────────────────────────────────────────\n",
       "                                                                              \n",
       "                                                                              \n",
       "\n",
       "  2      2   2      2               2\n",
       "₁₂    km₁ ⋅n₁  + km₁  + (km₁⋅m₁ - 1) \n",
       "─── = ───────────────────────────────\n",
       "                      2              \n",
       "                    β₁               "
      ]
     },
     "execution_count": 96,
     "metadata": {},
     "output_type": "execute_result"
    }
   ],
   "source": [
    "# Connect Warp Connections\n",
    "j11, j12, j22, H111, H121, H221, H112, H122, H222  = symbols('J11 J12 J22 H111 H121 H221 H112 H122 H222',real=True)\n",
    "J13_11, J13_12, J13_22, H13_110, H13_120, H13_220, H13_111, H13_121, H13_221  = symbols('J^12_11 J^12_12 J^12_22 H^12_110 H^12_120 H^12_220 H^12_111 H^12_121 H^12_221',real=True)\n",
    "J12 = Matrix([[j11,j12],[j12,j22]])\n",
    "H0 = Matrix([[H111,H121],[H121,H221]])\n",
    "H1 = Matrix([[H112,H122],[H122,H222]])\n",
    "J12inv = J12**(-1)\n",
    "\n",
    "G2J = J12.T*G2*J12\n",
    "\n",
    "Eq((simplify(expand(1/b2**2*J12.T*G2*J12)))[0,0],1/b1**2*G1[0,0])"
   ]
  },
  {
   "cell_type": "markdown",
   "metadata": {},
   "source": [
    "6 incognites and 3 equations: We need more equations. To solve it, we use the second fundamental form, the Christophel symbols. They come directly from the metric tensor derivatives: "
   ]
  },
  {
   "cell_type": "code",
   "execution_count": 99,
   "metadata": {},
   "outputs": [],
   "source": [
    "# Cristophel symbols first kind\n",
    "def derivate_metric_tensor(m,n,km,kn,g11,g12,g22):\n",
    "    # Derivatives without taking into account depth\n",
    "    Em_par = 2*(km*m-1)*(-km**2*m+km)-2*n*km**3*n-2*km**3\n",
    "    Fm_par = -2*km**2*kn*(m**2+n**2+1)+km*kn*3*m-kn+km**2*n\n",
    "    Gm_par =  2*kn*m*(-kn*km*m+kn)+2*(kn*n-1)*(-kn*km*n)-kn**2*km*2\n",
    "    En_par =  2*(km*m-1)*(-kn*km*m)+2*km*n*(-km*kn*n+km)-2*kn*km**2\n",
    "    Fn_par =  -2*km*kn**2*(m**2+n**2+1)+km*kn*3*n-km+kn**2*m\n",
    "    Gn_par =  -2*kn**3*m**2+2*(kn*n-1)*(-kn**2*n+kn)-2*kn**3\n",
    "    # Derivatives taking into account depth but without including it. The depth \n",
    "    # vanishes in the Christophel symbols\n",
    "    Em_noB = Em_par - 2*g11*km\n",
    "    Fm_noB = Fm_par - 2*g12*km\n",
    "    Gm_noB = Gm_par - 2*g22*km\n",
    "    En_noB = En_par - 2*g11*kn\n",
    "    Fn_noB = Fn_par - 2*g12*kn\n",
    "    Gn_noB = Gn_par - 2*g22*kn\n",
    "    return Em_noB,Fm_noB,Gm_noB,En_noB,Fn_noB,Gn_noB\n",
    "\n",
    "Em_noB1,Fm_noB1,Gm_noB1,En_noB1,Fn_noB1,Gn_noB1 = derivate_metric_tensor(m1,n1,km1,kn1,g111,g121,g221)\n",
    "Em_noB2,Fm_noB2,Gm_noB2,En_noB2,Fn_noB2,Gn_noB2 = derivate_metric_tensor(m2,n2,km2,kn2,g112,g122,g222)\n",
    "\n",
    "# Metric tensor inverse\n",
    "ginv1 = 1/(g111*g221-g121**2)*Matrix([[g221,-g121],[-g121,g111]])\n",
    "ginv2 = 1/(g112*g222-g122**2)*Matrix([[g222,-g122],[-g122,g112]])\n",
    "\n",
    "# Cristophel symbols second kind\n",
    "def christophel_symbols_second_kind(ginv,Em_noB,Fm_noB,Gm_noB,En_noB,Fn_noB,Gn_noB):\n",
    "    Gamma001 =  ginv[0,0]*(1/2*Em_noB)+ginv[0,1]*(Fm_noB-1/2*En_noB)\n",
    "    Gamma002 =  ginv[1,0]*(1/2*Em_noB)+ginv[1,1]*(Fm_noB-1/2*En_noB)\n",
    "    Gamma011 =  ginv[0,0]*(1/2*En_noB)+ginv[0,1]*(1/2*Gm_noB)\n",
    "    Gamma012 =  ginv[1,0]*(1/2*En_noB)+ginv[1,1]*(1/2*Gm_noB)\n",
    "    Gamma101 =  Gamma011\n",
    "    Gamma102 =  Gamma012\n",
    "    Gamma111 =  ginv[0,0]*(Fn_noB-1/2*Gm_noB)+ginv[0,1]*(1/2*Gn_noB)\n",
    "    Gamma112 =  ginv[1,0]*(Fn_noB-1/2*Gm_noB)+ginv[1,1]*(1/2*Gn_noB)\n",
    "    Gamma1 = simplify(Matrix([[Gamma001,Gamma101],[Gamma011,Gamma111]]))\n",
    "    Gamma2 = simplify(Matrix([[Gamma002,Gamma102],[Gamma012,Gamma112]]))\n",
    "    return Gamma1,Gamma2\n",
    "\n",
    "Gamma11, Gamma21 = christophel_symbols_second_kind(ginv1,Em_noB1,Fm_noB1,Gm_noB1,En_noB1,Fn_noB1,Gn_noB1)\n",
    "Gamma12, Gamma22 = christophel_symbols_second_kind(ginv2,Em_noB2,Fm_noB2,Gm_noB2,En_noB2,Fn_noB2,Gn_noB2)"
   ]
  },
  {
   "cell_type": "code",
   "execution_count": 102,
   "metadata": {},
   "outputs": [
    {
     "data": {
      "image/png": "[encoded data removed]",
      "text/latex": [
       "$\\displaystyle \\left[\\begin{matrix}0 & - 1.0 km_{1}\\\\- 1.0 km_{1} & - 2.0 kn_{1}\\end{matrix}\\right]$"
      ],
      "text/plain": [
       "⎡   0      -1.0⋅km₁⎤\n",
       "⎢                  ⎥\n",
       "⎣-1.0⋅km₁  -2.0⋅kn₁⎦"
      ]
     },
     "execution_count": 102,
     "metadata": {},
     "output_type": "execute_result"
    }
   ],
   "source": [
    "Gamma11\n",
    "\n",
    "Gamma21"
   ]
  },
  {
   "cell_type": "code",
   "execution_count": 106,
   "metadata": {},
   "outputs": [],
   "source": [
    "# 2 equations /4 incognites (From change the variables)\n",
    "E1_gamma = (J12inv[0,0]*(J12.T*Tau12*J12+H0)+J12inv[0,1]*(J12.T*Tau22*J12+H1))\n",
    "E2_gamma = (J12inv[1,0]*(J12.T*Tau12*J12+H0)+J12inv[1,1]*(J12.T*Tau22*J12+H1))\n",
    "\n",
    "def Equations_with_CS(E1_gamma,E2_gamma,km1,kn1,km2,kn2,H111,H121,H221,H112,H122,H222,j11,j12,j22):\n",
    "    EE3 = expand(simplify(-E1_gamma[0,0]/2-km1)*det(J12))\n",
    "    EE4 = expand(simplify(-E2_gamma[1,1]/2-kn1)*det(J12))\n",
    "    EE5 = expand(simplify(-E1_gamma[1,0]-kn1)*det(J12))\n",
    "    EE6 = expand(simplify(-E2_gamma[1,0]-km1)*det(J12))\n",
    "    #Gamma001\n",
    "    b1 = H111*j22/2-H112*j12/2\n",
    "    a11 = j12**2-j11*j22\n",
    "    a12 = 0\n",
    "    a13 = j11**2*j22-j11*j12**2\n",
    "    a14 = j11*j12*j22-j12**3\n",
    "    #Gamma112\n",
    "    b2 = -0.5*H221*j12 + 0.5*H222*j11\n",
    "    a21 = 0\n",
    "    a22 = - 1.0*j11*j22+j12**2\n",
    "    a23 = + j11*j12*j22 - j12**3\n",
    "    a24 = + 1.0*j11*j22**2 - 1.0*j12**2*j22 \n",
    "    #Gamma101\n",
    "    b3 = H121*j22 - H122*j12\n",
    "    a31 = 0\n",
    "    a32 = j12**2 - j11*j22\n",
    "    a33 = + 1.0*j11*j12*j22  - 1.0*j12**3\n",
    "    a34 = - 1.0*j12**2*j22 +  1.0*j11*j22**2 \n",
    "    #Gamma102\n",
    "    b4 = -H121*j12 + H122*j11 \n",
    "    a41 = -j11*j22+j12**2\n",
    "    a42 = 0\n",
    "    a43 = + 1.0*j11**2*j22 - 1.0*j11*j12**2\n",
    "    a44 = - 1.0*j12**3 +1.0*j11*j12*j22\n",
    "    expand(-b4+a41*km1+a42*kn1+a43*km2+a44*kn2)\n",
    "    # Assemble matrices\n",
    "    A = Matrix([[a11,a12,a13,a14],[a21,a22,a23,a24],[a31,a32,a33,a34],[a41,a42,a43,a44]])\n",
    "    b = Matrix([[b1],[b2],[b3],[b4]])\n",
    "    return A,b\n",
    "\n",
    "A,b = Equations_with_CS(E1_gamma,E2_gamma,km1,kn1,km2,kn2,H111,H121,H221,H112,H122,H222,j11,j12,j22)\n",
    "\n",
    "print(A.rank())"
   ]
  },
  {
   "cell_type": "markdown",
   "metadata": {},
   "source": [
    "The rank of the linear system is 2 what give us two more equations. We obtain km1 and kn1 wrt. km2 and kn2."
   ]
  },
  {
   "cell_type": "code",
   "execution_count": 135,
   "metadata": {},
   "outputs": [
    {
     "data": {
      "image/png": "[encoded data removed]",
      "text/latex": [
       "$\\displaystyle \\left[ \\left( \\frac{- \\frac{H_{111} J_{22}}{2} + \\frac{H_{112} J_{12}}{2} + \\left(J_{11} J_{22} - J_{12}^{2}\\right) \\left(J_{11} km_{2} + J_{12} kn_{2}\\right)}{J_{11} J_{22} - J_{12}^{2}}, \\  \\frac{0.5 H_{221} J_{12} - 0.5 H_{222} J_{11} + J_{12} km_{2} \\left(J_{11} J_{22} - J_{12}^{2}\\right) + 1.0 J_{22} kn_{2} \\left(J_{11} J_{22} - J_{12}^{2}\\right)}{1.0 J_{11} J_{22} - J_{12}^{2}}, \\  km_{2}, \\  kn_{2}\\right)\\right]$"
      ],
      "text/plain": [
       "⎡⎛  H₁₁₁⋅J₂₂   H₁₁₂⋅J₁₂   ⎛             2⎞                                    \n",
       "⎢⎜- ──────── + ──────── + ⎝J₁₁⋅J₂₂ - J₁₂ ⎠⋅(J₁₁⋅km₂ + J₁₂⋅kn₂)                \n",
       "⎢⎜     2          2                                             0.5⋅H₂₂₁⋅J₁₂ -\n",
       "⎢⎜────────────────────────────────────────────────────────────, ──────────────\n",
       "⎢⎜                                    2                                       \n",
       "⎣⎝                       J₁₁⋅J₂₂ - J₁₂                                        \n",
       "\n",
       "                                                                              \n",
       "                        ⎛             2⎞               ⎛             2⎞       \n",
       " 0.5⋅H₂₂₂⋅J₁₁ + J₁₂⋅km₂⋅⎝J₁₁⋅J₂₂ - J₁₂ ⎠ + 1.0⋅J₂₂⋅kn₂⋅⎝J₁₁⋅J₂₂ - J₁₂ ⎠       \n",
       "───────────────────────────────────────────────────────────────────────, km₂, \n",
       "                                     2                                        \n",
       "                    1.0⋅J₁₁⋅J₂₂ - J₁₂                                         \n",
       "\n",
       "   ⎞⎤\n",
       "   ⎟⎥\n",
       "   ⎟⎥\n",
       "kn₂⎟⎥\n",
       "   ⎟⎥\n",
       "   ⎠⎦"
      ]
     },
     "execution_count": 135,
     "metadata": {},
     "output_type": "execute_result"
    }
   ],
   "source": [
    "# Schwarzian equations\n",
    "simplify(E1_gamma[1,1])\n",
    "simplify(E2_gamma[0,0])\n",
    "\n",
    "baux = Matrix([[(b[0,0])],[b[1,0]]])\n",
    "Aaux = Matrix([(A[0,0:4]),(A[1,0:4])])\n",
    "\n",
    "a = list(linsolve([Aaux,baux],[km1,kn1,km2,kn2]))\n",
    "a"
   ]
  },
  {
   "cell_type": "code",
   "execution_count": 144,
   "metadata": {},
   "outputs": [],
   "source": [
    "# kn2 and km2 depending on kn1 and km1\n",
    "eqkn2 = a[0][1]-kn1\n",
    "kn2aux = simplify(solve(eqkn2,kn2)[0])\n",
    "eqkm2 = a[0][0].subs(kn2,kn2aux)-km1\n",
    "km2aux = simplify(solve(eqkm2,km2)[0])\n",
    "kn2aux = simplify(kn2aux.subs(km2,km2aux))"
   ]
  },
  {
   "cell_type": "code",
   "execution_count": 145,
   "metadata": {},
   "outputs": [],
   "source": [
    "# 6 inc /2 eq -- Christophel symbols give you 2\n",
    "EE1 = simplify(expand(g111/g121)-expand(G2J[0,0]/G2J[0,1]))\n",
    "EE2 = simplify(expand(g221/g121)-expand(G2J[1,1]/G2J[0,1]))\n",
    "\n",
    "EE1 = EE1.subs(kn2,kn2aux)\n",
    "E1 = EE1.subs(km2,km2aux) \n",
    "EE2 = EE2.subs(kn2,kn2aux)\n",
    "E2 = EE2.subs(km2,km2aux)"
   ]
  },
  {
   "cell_type": "code",
   "execution_count": 146,
   "metadata": {},
   "outputs": [],
   "source": [
    "#Final equations\n",
    "E1 = factor(E1)\n",
    "E2 = factor(E2)\n",
    "num1,den1 =fraction(E1)\n",
    "num2,den2 =fraction(E2)\n",
    "\n",
    "# Final equations\n",
    "eq1 = Poly(num1,km1,kn1)\n",
    "eq2 = Poly(num2,km1,kn1)\n",
    "\n",
    "# Coeffs\n",
    "eq1_3_0 = simplify(eq1.coeff_monomial(km1**3*kn1**0)) \n",
    "eq1_2_2 = simplify(eq1.coeff_monomial(km1**2*kn1**2)) # = 0\n",
    "eq1_1_2 = simplify(eq1.coeff_monomial(km1**1*kn1**2)) # = 0\n",
    "eq1_0_2 = simplify(eq1.coeff_monomial(km1**0*kn1**2)) # = 0\n",
    "eq1_2_1 = simplify(eq1.coeff_monomial(km1**2*kn1**1)) \n",
    "eq1_2_0 = simplify(eq1.coeff_monomial(km1**2*kn1**0)) \n",
    "eq1_1_1 = simplify(eq1.coeff_monomial(km1**1*kn1**1))\n",
    "eq1_1_0 = simplify(eq1.coeff_monomial(km1**1*kn1**0))\n",
    "eq1_0_1 = simplify(eq1.coeff_monomial(km1**0*kn1**1))\n",
    "eq1_0_0 = simplify(eq1.coeff_monomial(km1**0*kn1**0))\n",
    "\n",
    "eq2_0_3 = simplify(eq2.coeff_monomial(km1**0*kn1**3))\n",
    "eq2_2_2 = simplify(eq2.coeff_monomial(km1**2*kn1**2)) # = 0\n",
    "eq2_1_2 = simplify(eq2.coeff_monomial(km1**1*kn1**2))\n",
    "eq2_0_2 = simplify(eq2.coeff_monomial(km1**0*kn1**2))\n",
    "eq2_2_1 = simplify(eq2.coeff_monomial(km1**2*kn1**1)) # = 0\n",
    "eq2_2_0 = simplify(eq2.coeff_monomial(km1**2*kn1**0)) # = 0\n",
    "eq2_1_1 = simplify(eq2.coeff_monomial(km1**1*kn1**1))\n",
    "eq2_1_0 = simplify(eq2.coeff_monomial(km1**1*kn1**0))\n",
    "eq2_0_1 = simplify(eq2.coeff_monomial(km1**0*kn1**1))\n",
    "eq2_0_0 = simplify(eq2.coeff_monomial(km1**0*kn1**0))\n"
   ]
  },
  {
   "cell_type": "code",
   "execution_count": null,
   "metadata": {},
   "outputs": [],
   "source": [
    "eq1_3_0"
   ]
  }
 ],
 "metadata": {
  "kernelspec": {
   "display_name": "Python 3",
   "language": "python",
   "name": "python3"
  },
  "language_info": {
   "codemirror_mode": {
    "name": "ipython",
    "version": 3
   },
   "file_extension": ".py",
   "mimetype": "text/x-python",
   "name": "python",
   "nbconvert_exporter": "python",
   "pygments_lexer": "ipython3",
   "version": "3.5.2"
  }
 },
 "nbformat": 4,
 "nbformat_minor": 2
}
